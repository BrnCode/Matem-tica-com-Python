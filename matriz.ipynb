{
  "nbformat": 4,
  "nbformat_minor": 0,
  "metadata": {
    "colab": {
      "name": "matriz.ipynb",
      "provenance": [],
      "collapsed_sections": [],
      "authorship_tag": "ABX9TyMnt3l/ebU0FfdKmEjFE3sS"
    },
    "kernelspec": {
      "name": "python3",
      "display_name": "Python 3"
    },
    "language_info": {
      "name": "python"
    }
  },
  "cells": [
    {
      "cell_type": "code",
      "execution_count": null,
      "metadata": {
        "colab": {
          "base_uri": "https://localhost:8080/"
        },
        "id": "o4iRaKTnMJ0S",
        "outputId": "61b4f64a-17a7-4c2c-f688-0e605f4d086c"
      },
      "outputs": [
        {
          "output_type": "execute_result",
          "data": {
            "text/plain": [
              "[[1, 4, 6], [3, 7, 8], [4, 9, 2]]"
            ]
          },
          "metadata": {},
          "execution_count": 2
        }
      ],
      "source": [
        "matriz = [[1, 4, 6],\n",
        "          [3, 7, 8],\n",
        "          [4, 9, 2]]\n",
        "matriz"
      ]
    },
    {
      "cell_type": "code",
      "source": [
        "print(matriz)"
      ],
      "metadata": {
        "colab": {
          "base_uri": "https://localhost:8080/"
        },
        "id": "2n_V9ehxMW0T",
        "outputId": "984c06a1-663b-4787-cdbb-4e605245af96"
      },
      "execution_count": null,
      "outputs": [
        {
          "output_type": "stream",
          "name": "stdout",
          "text": [
            "[[1.0, 2.0], [1.0, 2.0]]\n"
          ]
        }
      ]
    },
    {
      "cell_type": "code",
      "source": [
        "def exibir_matriz(matriz):\n",
        "    for linha in matriz:\n",
        "        print(linha)\n",
        "\n",
        "m = int(input('Numero de linhas: '))\n",
        "n = int(input('Numero de colunas: '))\n",
        "\n",
        "matriz = []\n",
        "for i in range(m):\n",
        "    linha = []\n",
        "    for j in range(n):\n",
        "        elemento = input('Elemento de linha {} e coluna {} '.format(i, j))\n",
        "        linha.append(float(elemento))\n",
        "    matriz.append(linha)\n",
        " \n",
        "exibir_matriz(matriz)"
      ],
      "metadata": {
        "colab": {
          "base_uri": "https://localhost:8080/"
        },
        "id": "gnHgT-xzMcOL",
        "outputId": "81dcadf5-bb14-450a-cf37-2a3a067677fe"
      },
      "execution_count": null,
      "outputs": [
        {
          "output_type": "stream",
          "name": "stdout",
          "text": [
            "Numero de linhas: 3\n",
            "Numero de colunas: 3\n",
            "Elemento de linha 0 e coluna 0 12\n",
            "Elemento de linha 0 e coluna 1 43\n",
            "Elemento de linha 0 e coluna 2 54\n",
            "Elemento de linha 1 e coluna 0 23\n",
            "Elemento de linha 1 e coluna 1 65\n",
            "Elemento de linha 1 e coluna 2 34\n",
            "Elemento de linha 2 e coluna 0 23\n",
            "Elemento de linha 2 e coluna 1 43\n",
            "Elemento de linha 2 e coluna 2 87\n",
            "[12.0, 43.0, 54.0]\n",
            "[23.0, 65.0, 34.0]\n",
            "[23.0, 43.0, 87.0]\n"
          ]
        }
      ]
    },
    {
      "cell_type": "code",
      "source": [
        "def exibir_matriz(matriz):\n",
        "    for linha in matriz:\n",
        "        print(linha)\n",
        "\n",
        "arquivo = open('matriz3x3.txt', 'r')\n",
        "\n",
        "matriz = []\n",
        "\n",
        "linha = arquivo.readline()\n",
        "while linha!='':\n",
        "    elementos = linha.split() #caracter de separação, no caso é 1 espaço\n",
        "    for n in range(len(elementos)):\n",
        "        elementos[n] = float(elementos[n])\n",
        "    matriz.append(elementos)\n",
        "    \n",
        "    linha = arquivo.readline()\n",
        "arquivo.close()\n",
        "\n",
        "exibir_matriz(matriz)"
      ],
      "metadata": {
        "colab": {
          "base_uri": "https://localhost:8080/"
        },
        "id": "9n7K-NLxxnqZ",
        "outputId": "c7b3f000-831f-491f-a340-fc50c3a4b884"
      },
      "execution_count": 8,
      "outputs": [
        {
          "output_type": "stream",
          "name": "stdout",
          "text": [
            "[54.0, 65.0, 23.0]\n",
            "[23.0, 43.0, 76.0]\n",
            "[87.0, 12.0, 76.0]\n"
          ]
        }
      ]
    },
    {
      "cell_type": "code",
      "source": [
        ""
      ],
      "metadata": {
        "id": "z9iinK2h0p9h"
      },
      "execution_count": null,
      "outputs": []
    }
  ]
}