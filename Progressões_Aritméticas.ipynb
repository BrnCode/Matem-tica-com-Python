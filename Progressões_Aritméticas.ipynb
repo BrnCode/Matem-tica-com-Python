{
  "nbformat": 4,
  "nbformat_minor": 0,
  "metadata": {
    "colab": {
      "name": "Progressões Aritméticas.ipynb",
      "provenance": [],
      "authorship_tag": "ABX9TyPoir7a49vZypFpq/ML5BDg"
    },
    "kernelspec": {
      "name": "python3",
      "display_name": "Python 3"
    },
    "language_info": {
      "name": "python"
    }
  },
  "cells": [
    {
      "cell_type": "markdown",
      "source": [
        "# Calculando Progressão Aritmética"
      ],
      "metadata": {
        "id": "s-vlaKB12HRe"
      }
    },
    {
      "cell_type": "code",
      "execution_count": 34,
      "metadata": {
        "id": "j96JMAabyfsn"
      },
      "outputs": [],
      "source": [
        "def pa_termo(a0, r, n): # Termo inicial = a0, Razão = r, \n",
        "                        # n = numero de termos calculados\n",
        "    an = a0\n",
        "    for i in range(n):\n",
        "        an = an + r\n",
        "    return an #an igual ao numero final de termos"
      ]
    },
    {
      "cell_type": "code",
      "source": [
        "pa_termo(1, 3, 100)"
      ],
      "metadata": {
        "colab": {
          "base_uri": "https://localhost:8080/"
        },
        "id": "qlgOcK6D0e7r",
        "outputId": "c677724a-7b6b-43f2-9fab-606e7d0ff847"
      },
      "execution_count": 35,
      "outputs": [
        {
          "output_type": "execute_result",
          "data": {
            "text/plain": [
              "301"
            ]
          },
          "metadata": {},
          "execution_count": 35
        }
      ]
    },
    {
      "cell_type": "markdown",
      "source": [
        "Alternativa usando o principio da indução finita"
      ],
      "metadata": {
        "id": "-ptLd7DW12Y9"
      }
    },
    {
      "cell_type": "code",
      "source": [
        "def pa_termo1(a0, r, n):\n",
        "    return a0 + n*r"
      ],
      "metadata": {
        "id": "JxwcMTXr1WPr"
      },
      "execution_count": 41,
      "outputs": []
    },
    {
      "cell_type": "code",
      "source": [
        "pa_termo1(1, 3, 100)"
      ],
      "metadata": {
        "colab": {
          "base_uri": "https://localhost:8080/"
        },
        "id": "1vrOaET72DOU",
        "outputId": "79e5b860-98be-48d5-a804-e369c91ae402"
      },
      "execution_count": 42,
      "outputs": [
        {
          "output_type": "execute_result",
          "data": {
            "text/plain": [
              "301"
            ]
          },
          "metadata": {},
          "execution_count": 42
        }
      ]
    },
    {
      "cell_type": "markdown",
      "source": [
        "# Calculando a soma dos n termos da PA"
      ],
      "metadata": {
        "id": "a1SIpQch2RY7"
      }
    },
    {
      "cell_type": "code",
      "source": [
        "def pa_termo1(a0, r, n):\n",
        "    return a0 + n*r\n",
        "\n",
        "def pa_soma(a0, r, n):\n",
        "    soma = 0\n",
        "    for i in range(n+1):\n",
        "        soma = soma + pa_termo1(a0, r, n)\n",
        "    return soma"
      ],
      "metadata": {
        "id": "dmkqCVFV2PM1"
      },
      "execution_count": 49,
      "outputs": []
    },
    {
      "cell_type": "code",
      "source": [
        "pa_soma(1, 3, 100)"
      ],
      "metadata": {
        "colab": {
          "base_uri": "https://localhost:8080/"
        },
        "id": "5jiBoQQ53Sar",
        "outputId": "a0b2e424-56c6-476d-baec-74618572ee47"
      },
      "execution_count": 50,
      "outputs": [
        {
          "output_type": "execute_result",
          "data": {
            "text/plain": [
              "30401"
            ]
          },
          "metadata": {},
          "execution_count": 50
        }
      ]
    },
    {
      "cell_type": "code",
      "source": [
        "\n",
        "termo_inicial = int(input(\"Termo inicial da PA: \"))\n",
        "razao = int(input(\"Razão da PA: \"))\n",
        "n = int(input(\"Posição (N): \"))\n",
        "\n",
        "print(\"N-ésimo termo:\", pa_termo(termo_inicial, razao, n))\n",
        "print(\"Soma da PA:\", pa_soma(termo_inicial, razao, n))"
      ],
      "metadata": {
        "colab": {
          "base_uri": "https://localhost:8080/"
        },
        "id": "5mYsK2jy3OGM",
        "outputId": "c411a635-45e8-4f27-842c-72d9fa72bf0e"
      },
      "execution_count": 51,
      "outputs": [
        {
          "output_type": "stream",
          "name": "stdout",
          "text": [
            "Termo inicial da PA: 3\n",
            "Razão da PA: 10\n",
            "Posição (N): 7\n",
            "N-ésimo termo: 73\n",
            "Soma da PA: 584\n"
          ]
        }
      ]
    },
    {
      "cell_type": "code",
      "source": [
        ""
      ],
      "metadata": {
        "id": "G9GPUsgv3tmM"
      },
      "execution_count": null,
      "outputs": []
    }
  ]
}